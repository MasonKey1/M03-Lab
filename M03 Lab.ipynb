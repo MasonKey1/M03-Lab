{
 "cells": [
  {
   "cell_type": "code",
   "execution_count": 1,
   "id": "7bdafe56",
   "metadata": {},
   "outputs": [
    {
     "name": "stdout",
     "output_type": "stream",
     "text": [
      "Enter the year: 2016\n",
      "Enter the make: Honda\n",
      "Enter the model: Civic\n",
      "Enter the number of doors (2 or 4): 4\n",
      "Enter the type of roof (solid or sun roof): sun roof\n",
      "Vehicle type: car\n",
      "Year: 2016\n",
      "Make: Honda\n",
      "Model: Civic\n",
      "Number of doors: 4\n",
      "Type of roof: sun roof\n"
     ]
    }
   ],
   "source": [
    "class Vehicle:\n",
    "    def __init__(self, vehicle_type):\n",
    "        self.vehicle_type = vehicle_type\n",
    "\n",
    "class Automobile(Vehicle):\n",
    "    def __init__(self, vehicle_type, year, make, model, doors, roof):\n",
    "        super().__init__(vehicle_type)\n",
    "        self.year = year\n",
    "        self.make = make\n",
    "        self.model = model\n",
    "        self.doors = doors\n",
    "        self.roof = roof\n",
    "\n",
    "def main():\n",
    "    vehicle_type = \"car\"\n",
    "    year = input(\"Enter the year: \")\n",
    "    make = input(\"Enter the make: \")\n",
    "    model = input(\"Enter the model: \")\n",
    "    doors = input(\"Enter the number of doors (2 or 4): \")\n",
    "    roof = input(\"Enter the type of roof (solid or sun roof): \")\n",
    "    automobile = Automobile(vehicle_type, year, make, model, doors, roof)\n",
    "    print(\"Vehicle type:\", automobile.vehicle_type)\n",
    "    print(\"Year:\", automobile.year)\n",
    "    print(\"Make:\", automobile.make)\n",
    "    print(\"Model:\", automobile.model)\n",
    "    print(\"Number of doors:\", automobile.doors)\n",
    "    print(\"Type of roof:\", automobile.roof)\n",
    "\n",
    "if __name__ == \"__main__\":\n",
    "    main()\n"
   ]
  },
  {
   "cell_type": "code",
   "execution_count": null,
   "id": "ebb6abdf",
   "metadata": {},
   "outputs": [],
   "source": []
  }
 ],
 "metadata": {
  "kernelspec": {
   "display_name": "Python 3 (ipykernel)",
   "language": "python",
   "name": "python3"
  },
  "language_info": {
   "codemirror_mode": {
    "name": "ipython",
    "version": 3
   },
   "file_extension": ".py",
   "mimetype": "text/x-python",
   "name": "python",
   "nbconvert_exporter": "python",
   "pygments_lexer": "ipython3",
   "version": "3.10.9"
  }
 },
 "nbformat": 4,
 "nbformat_minor": 5
}
